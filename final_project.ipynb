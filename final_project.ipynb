{
 "cells": [
  {
   "cell_type": "markdown",
   "metadata": {},
   "source": [
    "# Parcel Logistics"
   ]
  },
  {
   "cell_type": "markdown",
   "metadata": {},
   "source": [
    "## Table of Contents\n",
    "\n",
    "1. [Introduction](#introduction)\n",
    "1. [Mathematical Model](#model)\n",
    "1. [Data Source and Format](#data)\n",
    "    1. [Data Source](#data_source)\n",
    "    1. [Data Format](#data_format)\n",
    "1. [Implementation](#implementation)\n",
    "1. [Conclusion](#conclustion)"
   ]
  },
  {
   "cell_type": "markdown",
   "metadata": {},
   "source": [
    "<a name=\"introduction\"></a>\n",
    "### 1. Introduction ###"
   ]
  },
  {
   "cell_type": "markdown",
   "metadata": {},
   "source": [
    "<a name=\"model\"></a>\n",
    "### 2. Mathematical Model ###"
   ]
  },
  {
   "cell_type": "markdown",
   "metadata": {},
   "source": [
    "<a name=\"data\"></a>\n",
    "### 3. Data Source and Format ###\n",
    "\n",
    "<a name=\"data_source\"></a>\n",
    "#### 3.1 Data Source ####\n",
    "\n",
    "The data source we are using in this project is from a GitHub repository, https://github.com/austinlasseter/datasets-shipping-logistics\n",
    "\n",
    "\n",
    "<a name=\"data_format\"></a>\n",
    "#### 3.2 Data Format ####"
   ]
  },
  {
   "cell_type": "markdown",
   "metadata": {},
   "source": [
    "<a name=\"implementation\"></a>\n",
    "### 4. Implementation ###"
   ]
  },
  {
   "cell_type": "code",
   "execution_count": null,
   "metadata": {},
   "outputs": [],
   "source": [
    "# Install Ipopt\n",
    "using Pkg\n",
    "Pkg.add(\"Ipopt\")\n",
    "Pkg.add(\"PyPlot\")\n",
    "\n",
    "using JuMP, Ipopt\n",
    "using PyPlot"
   ]
  },
  {
   "cell_type": "markdown",
   "metadata": {},
   "source": [
    "<a name=\"conclusion\"></a>\n",
    "### 5. Conclusion ###"
   ]
  },
  {
   "cell_type": "code",
   "execution_count": null,
   "metadata": {},
   "outputs": [],
   "source": []
  }
 ],
 "metadata": {
  "@webio": {
   "lastCommId": null,
   "lastKernelId": null
  },
  "kernelspec": {
   "display_name": "Julia 1.10.5",
   "language": "julia",
   "name": "julia-1.10"
  },
  "language_info": {
   "file_extension": ".jl",
   "mimetype": "application/julia",
   "name": "julia",
   "version": "1.10.5"
  }
 },
 "nbformat": 4,
 "nbformat_minor": 4
}
