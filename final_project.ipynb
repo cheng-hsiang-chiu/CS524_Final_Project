{
 "cells": [
  {
   "cell_type": "markdown",
   "metadata": {},
   "source": [
    "# Parcel Logistics"
   ]
  },
  {
   "cell_type": "markdown",
   "metadata": {},
   "source": [
    "## Table of Contents\n",
    "\n",
    "1. [Introduction](#introduction)\n",
    "1. [Mathematical Model](#model)\n",
    "1. [Data Source and Format](#data)\n",
    "    1. [Data Source](#data_source)\n",
    "    1. [Data Format](#data_format)\n",
    "1. [Implementation](#implementation)\n",
    "1. [Conclusion](#conclustion)"
   ]
  },
  {
   "cell_type": "markdown",
   "metadata": {},
   "source": [
    "<a name=\"introduction\"></a>\n",
    "### 1. Introduction ###\n",
    "\n",
    "The Capacitated Vehicle Routing Problem (CVRP) is a classic combinatorial optimization problem\n",
    "that has been extensively studied in the field of operations research and logistics.\n",
    "It involves determining optimal routes for a fleet of vehicles with limited capacity to serve a set of customers with known demands.\n",
    "The objective is to minimize the total distance traveled by the vehicles while ensuring that all customer demands are satisfied and\n",
    "that no vehicle is overloaded.\n",
    "\n",
    "CVRP is a challenging problem due to its combinatorial nature and the need to balance multiple conflicting objectives.\n",
    "The problem complexity grows exponentially with the number of vehicles and customers, making it difficult to find optimal solutions,\n",
    "especially for large-scale instances.\n",
    "\n",
    "Traditional approaches to solving CVRP include exact methods,\n",
    "such as branch-and-bound and cutting-plane algorithms, and heuristic and metaheuristic methods,\n",
    "such as local search, tabu search, simulated annealing, and genetic algorithms.\n",
    "While exact methods can guarantee optimal solutions, they are often computationally expensive and impractical for large-scale instances.\n",
    "Heuristic and metaheuristic methods, on the other hand, provide approximate solutions in a more efficient manner.\n",
    "\n",
    "In recent years, there has been a growing interest in using mathematical programming techniques to solve CVRP.\n",
    "Mathematical programming formulations, such as integer linear programming (ILP) and mixed-integer linear programming (MILP),\n",
    "can be used to model the problem and obtain optimal or near-optimal solutions.\n",
    "However, solving large-scale CVRP instances using exact methods can be computationally intensive.\n",
    "\n",
    "This report presents a novel approach to solving CVRP using linear programming.\n",
    "By reformulating the problem as a linear program, we aim to develop a more efficient and scalable solution method.\n",
    "The linear programming formulation will be based on a relaxation of the original CVRP problem,\n",
    "and we will explore techniques to strengthen the formulation and improve the quality of the solutions."
   ]
  },
  {
   "cell_type": "markdown",
   "metadata": {},
   "source": [
    "<a name=\"model\"></a>\n",
    "### 2. Mathematical Model ###"
   ]
  },
  {
   "cell_type": "markdown",
   "metadata": {},
   "source": [
    "<a name=\"data\"></a>\n",
    "### 3. Data Source and Format ###\n",
    "\n",
    "<a name=\"data_source\"></a>\n",
    "#### 3.1 Data Source ####\n",
    "\n",
    "The data source we are using in this project is from a GitHub repository, https://github.com/austinlasseter/datasets-shipping-logistics\n",
    "\n",
    "\n",
    "<a name=\"data_format\"></a>\n",
    "#### 3.2 Data Format ####"
   ]
  },
  {
   "cell_type": "markdown",
   "metadata": {},
   "source": [
    "<a name=\"implementation\"></a>\n",
    "### 4. Implementation ###"
   ]
  },
  {
   "cell_type": "code",
   "execution_count": null,
   "metadata": {},
   "outputs": [],
   "source": [
    "# Install Ipopt\n",
    "using Pkg\n",
    "Pkg.add(\"Ipopt\")\n",
    "Pkg.add(\"PyPlot\")\n",
    "\n",
    "using JuMP, Ipopt\n",
    "using PyPlot"
   ]
  },
  {
   "cell_type": "markdown",
   "metadata": {},
   "source": [
    "<a name=\"conclusion\"></a>\n",
    "### 5. Conclusion ###"
   ]
  },
  {
   "cell_type": "code",
   "execution_count": null,
   "metadata": {},
   "outputs": [],
   "source": []
  }
 ],
 "metadata": {
  "@webio": {
   "lastCommId": null,
   "lastKernelId": null
  },
  "kernelspec": {
   "display_name": "Julia 1.10.5",
   "language": "julia",
   "name": "julia-1.10"
  },
  "language_info": {
   "file_extension": ".jl",
   "mimetype": "application/julia",
   "name": "julia",
   "version": "1.10.5"
  }
 },
 "nbformat": 4,
 "nbformat_minor": 4
}
