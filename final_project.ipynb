{
 "cells": [
  {
   "cell_type": "markdown",
   "execution_count": 1,
   "metadata": {},
   "outputs": [],
   "source": [
    "# Parcel Logistics"
   ]
  },
  {
   "cell_type": "markdown",
   "metadata": {},
   "source": [
    "## Table of Contents\n",
    "\n",
    "1. [Introduction](#introduction)\n",
    "1. [Mathematical Model](#model)\n",
    "    1. [Parameters](#parameters)\n",
    "    1. [Decision Variables](#decision_variables)\n",
    "    1. [Constraints](#constraints)\n",
    "    1. [Objective Function](#objective) \n",
    "1. [Data Source and Format](#data)\n",
    "    1. [Data Source](#data_source)\n",
    "    1. [Data Format](#data_format)\n",
    "1. [Implementation](#implementation)\n",
    "1. [Conclusion](#conclustion)"
   ]
  },
  {
   "cell_type": "markdown",
   "metadata": {},
   "source": [
    "<a name=\"introduction\"></a>\n",
    "### 1. Introduction ###\n",
    "\n",
    "\n",
    "<img src=\"introduction-to-vrp.svg\" style=\"width: 50%; display: block; margin: 0 auto;\" title=\"Image source: https://pyvrp.org/setup/introduction_to_vrp.html\">\n",
    "\n",
    "\n",
    "Vehicle Routing Problems (VRPs) are a class of combinatorial optimization problems\n",
    "that involve the optimization of vehicle routes to efficiently serve a set of customers.\n",
    "These problems arise in various real-world applications, including logistics, transportation, and supply chain management.\n",
    "\n",
    "The simplest form of VRP is the Capacitated Vehicle Routing Problem (CVRP), where a fleet of vehicles with limited capacity must be dispatched from a depot to serve a set of customers with known demands. The objective is to minimize the total distance traveled by the vehicles while ensuring that all customer demands are satisfied and that no vehicle exceeds its capacity.\n",
    "\n",
    "Several variants of the VRP have been studied in the literature, each tailored to specific real-world scenarios. Some of these variants include:\n",
    "\n",
    "* Vehicle Routing Problem with Time Windows (VRPTW): This variant introduces time constraints for each customer, requiring vehicles to arrive within specified time windows.\n",
    "* Vehicle Routing Problem with Pickup and Delivery (VRPPD): In this variant, each customer has both a pickup and a delivery location, and the vehicle must pick up items at the pickup location before delivering them to the delivery location.\n",
    "* Vehicle Routing Problem with Simultaneous Pickup and Delivery (VRPSPD): Similar to VRPPD, but the pickup and delivery of each customer must be performed simultaneously.\n",
    "* Vehicle Routing Problem with Backhauls (VRPB): This variant involves two types of customers: linehaul customers (deliveries) and backhaul customers (pickups). The objective is to minimize the total distance traveled while satisfying all customer demands.\n",
    "* Capacitated Vehicle Routing Problem (CVRP): In this variant, a fleet of vehicles with limited capacity must be dispatched from a depot to serve a set of customers with known demands.\n",
    "The objective is to minimize the total distance traveled by the vehicles while ensuring that all customer demands are satisfied and that no vehicle exceeds its capacity.\n",
    " \n",
    "This project focuses on the Capacitated Vehicle Routing Problem (CVRP).\n",
    "CVRP is a challenging problem due to its combinatorial nature and the need to balance multiple conflicting objectives.\n",
    "The problem complexity grows exponentially with the number of vehicles and customers, making it difficult to find optimal solutions,\n",
    "especially for large-scale instances.\n",
    "\n",
    "Traditional approaches to solving CVRP include exact methods,\n",
    "such as branch-and-bound and cutting-plane algorithms, and heuristic and metaheuristic methods,\n",
    "such as local search, tabu search, simulated annealing, and genetic algorithms.\n",
    "While exact methods can guarantee optimal solutions, they are often computationally expensive and impractical for large-scale instances.\n",
    "Heuristic and metaheuristic methods, on the other hand, provide approximate solutions in a more efficient manner.\n",
    "\n",
    "In recent years, there has been a growing interest in using mathematical programming techniques to solve CVRP.\n",
    "Mathematical programming formulations, such as integer linear programming (ILP) and mixed-integer linear programming (MILP),\n",
    "can be used to model the problem and obtain optimal or near-optimal solutions.\n",
    "However, solving large-scale CVRP instances using exact methods can be computationally intensive.\n",
    "\n",
    "This report presents a novel approach to solving CVRP using linear programming.\n",
    "By reformulating the problem as a linear program, we aim to develop a more efficient and scalable solution method.\n",
    "The linear programming formulation will be based on a relaxation of the original CVRP problem,\n",
    "and we will explore techniques to strengthen the formulation and improve the quality of the solutions."
   ]
  },
  {
   "cell_type": "markdown",
   "metadata": {},
   "source": [
    "<a name=\"model\"></a>\n",
    "### 2. Mathematical Model ###\n",
    "\n",
    "In the following, we consider a complete graph *G = (V, E)*,\n",
    "where *V* is the vertex set and *E* is the edge set.\n",
    "The vertex set *V* is partitioned into *V = V<sub>d</sub> U V<sub>c</sub>*,\n",
    "where *V<sub>d</sub> = {0, 1, 2, ..., m-1}* represent the set of *m*depots,\n",
    "and *V<sub>c</sub> = {m, m+1, ... m+n}* denotes the set of *n* clients.\n",
    "Each edge *(i, j) &#8712; E* has a weight *d<sub>i,j</sub>* denoting the travelling cost (e.g., distance)\n",
    "when going from *i &#8712; V* to *j &#8712; V*.\n",
    "A fleet of vehicles *K<sub>i</sub>* is assumed to be available at each depot *i &#8712; V<sub>d</sub>*.\n",
    "\n",
    "In this project, we study the capacitated vehicle routing problem (CVRP).\n",
    "In CVRP, each client *i &#8712; V<sub>c</sub>* has a demand *q<sub>i</sub> >= 0*,\n",
    "and there is a single depot, *V<sub>d</sub> = {0}*.\n",
    "It is also assumed that the fleet of vehicles is homogeneous,\n",
    "meaning that they all have the same maximum capacity *Q*.\n",
    "\n",
    "A feasible solution to the CVRP consists of a set of routes that all begin and end at the depot,\n",
    "such that each client is visited exactly once and none of the routes exceeds the vehicle capacity.\n",
    "The objective is to find a feasible solution that minimizes the total travelling cost.\n",
    "\n",
    "We formualte the CVRP problem as a linear programming optimization problem.\n",
    "In the following, we will define the three key components, decision variables, constraints, and objective function.\n",
    "Before the definitions, we will introduce the parameters used in the problem first.\n",
    "\n",
    "<a name=\"parameters\"></a>\n",
    "#### 2.A. Parameters ####\n",
    "* *d<sub>i,j</sub>* : the distance between the client *i* and the client *j*.\n",
    "* *q<sub>i</sub>* : the demand for the clinet *i*.\n",
    "\n",
    "<a name=\"decision_variables\"></a>\n",
    "#### 2.B. Decision Variables ####\n",
    "* *x<sub>i,j,k</sub>* : a binary variable denoting the edge *(i, j) &#8712; E* from the client *i* to the client *j* is visited by the vehicle *k*\n",
    "* *y<sub>i,k</sub>* : a binary variable denoting the demand from the client *i* is picked by the vehicle *k*.\n",
    "\n",
    "<a name=\"constraints\"></a>\n",
    "#### 2.C. Constraints ####\n",
    "\n",
    "* Constraint 1 : Each client *i &#8712; V* is visited once.\n",
    "\n",
    "* Constraint 2 :\n",
    "\n",
    "* Constraint 3 : \n",
    "\n",
    "* Constraint 4 : \n",
    "\n",
    "* Constraint 5 : \n",
    "\n",
    "<a name=\"objective\"></a>\n",
    "#### 2.D. Objective Function ####\n",
    "The objective function of CVPR is to minimize the total travelling cost, that is,\n",
    "*minimize ∑<sub>k</sub>∑<sub>i</sub>∑<sub>j</sub>d<sub>i,j</sub>x<sub>i,j,k</sub>* for all *k &#8712; K*, *i &#8712; V*, and *j &#8712; V*. "
   ]
  },
  {
   "cell_type": "markdown",
   "metadata": {},
   "source": [
    "<a name=\"data\"></a>\n",
    "### 3. Data Source and Format ###\n",
    "\n",
    "<a name=\"data_source\"></a>\n",
    "#### 3.A. Data Source ####\n",
    "\n",
    "The data source we are using in this project is from a GitHub repository, https://github.com/austinlasseter/datasets-shipping-logistics\n",
    "\n",
    "\n",
    "<a name=\"data_format\"></a>\n",
    "#### 3.B. Data Format ####"
   ]
  },
  {
   "cell_type": "markdown",
   "metadata": {},
   "source": [
    "<a name=\"implementation\"></a>\n",
    "### 4. Implementation ###"
   ]
  },
  {
   "cell_type": "code",
   "execution_count": null,
   "metadata": {},
   "outputs": [],
   "source": [
    "# Install Ipopt\n",
    "using Pkg\n",
    "Pkg.add(\"Ipopt\")\n",
    "Pkg.add(\"PyPlot\")\n",
    "\n",
    "using JuMP, Ipopt\n",
    "using PyPlot"
   ]
  },
  {
   "cell_type": "markdown",
   "metadata": {},
   "source": [
    "<a name=\"conclusion\"></a>\n",
    "### 5. Conclusion ###"
   ]
  },
  {
   "cell_type": "code",
   "execution_count": null,
   "metadata": {},
   "outputs": [],
   "source": []
  }
 ],
 "metadata": {
  "@webio": {
   "lastCommId": null,
   "lastKernelId": null
  },
  "kernelspec": {
   "display_name": "Julia 1.10.5",
   "language": "julia",
   "name": "julia-1.10"
  },
  "language_info": {
   "file_extension": ".jl",
   "mimetype": "application/julia",
   "name": "julia",
   "version": "1.10.5"
  }
 },
 "nbformat": 4,
 "nbformat_minor": 4
}
