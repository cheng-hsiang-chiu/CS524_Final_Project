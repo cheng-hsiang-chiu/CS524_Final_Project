{
 "cells": [
  {
   "cell_type": "markdown",
   "metadata": {},
   "source": [
    "# Parcel Logistics"
   ]
  },
  {
   "cell_type": "markdown",
   "metadata": {},
   "source": [
    "## Table of Contents\n",
    "\n",
    "* [1. Introduction](#introduction)\n",
    "* [2. Mathematical Model](#model)\n",
    "* [3. Data Source and Format](#data)\n",
    "    * [3.1 Data Source](#data_source)\n",
    "    * [3.2 Data Format](#data_format)\n",
    "* [4. Conclusion](#conclustion)"
   ]
  },
  {
   "cell_type": "markdown",
   "metadata": {},
   "source": [
    "<a name=\"introduction\"></a>\n",
    "### 1. Introduction ###"
   ]
  },
  {
   "cell_type": "markdown",
   "metadata": {},
   "source": [
    "<a class=\"anchor\" id=\"model\"></a>\n",
    "### 2. Mathematical Model ###"
   ]
  },
  {
   "cell_type": "markdown",
   "metadata": {},
   "source": [
    "### 3. Data Source and Format<a class=\"anchor\" id=\"data\"></a>\n",
    "\n",
    "#### 3.1 Data Source<a class=\"anchor\" id=\"data_source\"></a>\n",
    "\n",
    "The data source we are using in this project is from a GitHub repository, https://github.com/austinlasseter/datasets-shipping-logistics\n",
    "\n",
    "#### 3.2 Data Format<a class=\"anchor\" id=\"data_format\"></a>"
   ]
  },
  {
   "cell_type": "markdown",
   "metadata": {},
   "source": [
    "<a id=\"conclusion\"></a>\n",
    "### 4. Conclusion ###"
   ]
  },
  {
   "cell_type": "code",
   "execution_count": null,
   "metadata": {},
   "outputs": [],
   "source": [
    "# Install Ipopt\n",
    "using Pkg\n",
    "Pkg.add(\"Ipopt\")\n",
    "Pkg.add(\"PyPlot\")\n",
    "\n",
    "using JuMP, Ipopt\n",
    "using PyPlot"
   ]
  }
 ],
 "metadata": {
  "@webio": {
   "lastCommId": null,
   "lastKernelId": null
  },
  "kernelspec": {
   "display_name": "Julia 1.10.5",
   "language": "julia",
   "name": "julia-1.10"
  },
  "language_info": {
   "file_extension": ".jl",
   "mimetype": "application/julia",
   "name": "julia",
   "version": "1.10.5"
  }
 },
 "nbformat": 4,
 "nbformat_minor": 4
}
